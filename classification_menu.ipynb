{
 "cells": [
  {
   "metadata": {
    "collapsed": true,
    "ExecuteTime": {
     "end_time": "2024-11-19T05:22:45.320164Z",
     "start_time": "2024-11-19T05:22:45.313295Z"
    }
   },
   "cell_type": "code",
   "source": [
    "from tensorflow.python.keras.saving.saved_model.load import models_lib\n",
    "\n",
    "from get_keyword_textrank import df_total\n",
    "from sklearn.preprocessing import OneHotEncoder\n",
    "import pandas as pd\n",
    "import numpy as np"
   ],
   "id": "initial_id",
   "outputs": [],
   "execution_count": 78
  },
  {
   "metadata": {
    "ExecuteTime": {
     "end_time": "2024-11-19T05:22:53.527560Z",
     "start_time": "2024-11-19T05:22:53.513161Z"
    }
   },
   "cell_type": "code",
   "source": "",
   "id": "48788680a8634a1c",
   "outputs": [
    {
     "data": {
      "text/plain": [
       "      category                                               text  \\\n",
       "0         AS문의  네 많이 걱정하셨을 텐데요. 일단 기사가 다시 가서 확인을 좀 드릴거고요. 일정 확...   \n",
       "1         AS문의  반갑습니다  상담사  입니다. 다름이 아니고요 지난번에 냉장고를 고쳤거든요. 예 제...   \n",
       "2         AS문의  안녕하세요  세탁기 전문 상담사  입니다. 수고하십니다 세탁기 급수가 안 돼서 연락...   \n",
       "3         AS문의  반갑습니다  상담사  입니다. 세탁기가요 세제하고 섬유 유연제가 세탁기 속으로 들어...   \n",
       "4         AS문의  반갑습니다 상담사 입니다. 안녕하세요 노트북 을 사용 중인데요. 네 노트북 사용하세...   \n",
       "...        ...                                                ...   \n",
       "9059  환불/반품/교환  청명한 하루입니다  고객센터  상담사 입니다. 상담사님 안녕하세요 수고하십니다. 감...   \n",
       "9060  환불/반품/교환  반갑습니다  입니다. 안녕하세요 가구 배송 희망일 선택 시 요일 선택도 가능한가요....   \n",
       "9061  환불/반품/교환  생산 업체로부터 부품 교체도 받으신 건이시구요. 예 그때 당시에 교체도 한 번 받았...   \n",
       "9062  환불/반품/교환  안녕하세요   상담사입니다. 수고하십니다 제가 받은 제품 덮개가 안 맞아요. 네 고...   \n",
       "9063  환불/반품/교환  반갑습니다 무엇을 도와드릴까요. 예 제가 좀 전에 전화를 했었거든요. 혹시 저하고 ...   \n",
       "\n",
       "               keyword label  \n",
       "0        [시간, 기사가, 연락]  고장신고  \n",
       "1      [알려주신, 휴대폰, 물이]  고장신고  \n",
       "2        [다시, 물이, 세탁기]  고장신고  \n",
       "3     [어떻게, 해주세요, 그렇게]  고장신고  \n",
       "4        [노트북, 센터, 상담]  고장신고  \n",
       "...                ...   ...  \n",
       "9059    [예약, 입니다, 상담사]    해지  \n",
       "9060   [지방의, 배송, 경우에는]    해지  \n",
       "9061     [이게, 업체, 그러면]    해지  \n",
       "9062     [덮개, 맞아요, 제품]    해지  \n",
       "9063    [아닌가, 때문에, 상담]    해지  \n",
       "\n",
       "[9059 rows x 4 columns]"
      ],
      "text/html": [
       "<div>\n",
       "<style scoped>\n",
       "    .dataframe tbody tr th:only-of-type {\n",
       "        vertical-align: middle;\n",
       "    }\n",
       "\n",
       "    .dataframe tbody tr th {\n",
       "        vertical-align: top;\n",
       "    }\n",
       "\n",
       "    .dataframe thead th {\n",
       "        text-align: right;\n",
       "    }\n",
       "</style>\n",
       "<table border=\"1\" class=\"dataframe\">\n",
       "  <thead>\n",
       "    <tr style=\"text-align: right;\">\n",
       "      <th></th>\n",
       "      <th>category</th>\n",
       "      <th>text</th>\n",
       "      <th>keyword</th>\n",
       "      <th>label</th>\n",
       "    </tr>\n",
       "  </thead>\n",
       "  <tbody>\n",
       "    <tr>\n",
       "      <th>0</th>\n",
       "      <td>AS문의</td>\n",
       "      <td>네 많이 걱정하셨을 텐데요. 일단 기사가 다시 가서 확인을 좀 드릴거고요. 일정 확...</td>\n",
       "      <td>[시간, 기사가, 연락]</td>\n",
       "      <td>고장신고</td>\n",
       "    </tr>\n",
       "    <tr>\n",
       "      <th>1</th>\n",
       "      <td>AS문의</td>\n",
       "      <td>반갑습니다  상담사  입니다. 다름이 아니고요 지난번에 냉장고를 고쳤거든요. 예 제...</td>\n",
       "      <td>[알려주신, 휴대폰, 물이]</td>\n",
       "      <td>고장신고</td>\n",
       "    </tr>\n",
       "    <tr>\n",
       "      <th>2</th>\n",
       "      <td>AS문의</td>\n",
       "      <td>안녕하세요  세탁기 전문 상담사  입니다. 수고하십니다 세탁기 급수가 안 돼서 연락...</td>\n",
       "      <td>[다시, 물이, 세탁기]</td>\n",
       "      <td>고장신고</td>\n",
       "    </tr>\n",
       "    <tr>\n",
       "      <th>3</th>\n",
       "      <td>AS문의</td>\n",
       "      <td>반갑습니다  상담사  입니다. 세탁기가요 세제하고 섬유 유연제가 세탁기 속으로 들어...</td>\n",
       "      <td>[어떻게, 해주세요, 그렇게]</td>\n",
       "      <td>고장신고</td>\n",
       "    </tr>\n",
       "    <tr>\n",
       "      <th>4</th>\n",
       "      <td>AS문의</td>\n",
       "      <td>반갑습니다 상담사 입니다. 안녕하세요 노트북 을 사용 중인데요. 네 노트북 사용하세...</td>\n",
       "      <td>[노트북, 센터, 상담]</td>\n",
       "      <td>고장신고</td>\n",
       "    </tr>\n",
       "    <tr>\n",
       "      <th>...</th>\n",
       "      <td>...</td>\n",
       "      <td>...</td>\n",
       "      <td>...</td>\n",
       "      <td>...</td>\n",
       "    </tr>\n",
       "    <tr>\n",
       "      <th>9059</th>\n",
       "      <td>환불/반품/교환</td>\n",
       "      <td>청명한 하루입니다  고객센터  상담사 입니다. 상담사님 안녕하세요 수고하십니다. 감...</td>\n",
       "      <td>[예약, 입니다, 상담사]</td>\n",
       "      <td>해지</td>\n",
       "    </tr>\n",
       "    <tr>\n",
       "      <th>9060</th>\n",
       "      <td>환불/반품/교환</td>\n",
       "      <td>반갑습니다  입니다. 안녕하세요 가구 배송 희망일 선택 시 요일 선택도 가능한가요....</td>\n",
       "      <td>[지방의, 배송, 경우에는]</td>\n",
       "      <td>해지</td>\n",
       "    </tr>\n",
       "    <tr>\n",
       "      <th>9061</th>\n",
       "      <td>환불/반품/교환</td>\n",
       "      <td>생산 업체로부터 부품 교체도 받으신 건이시구요. 예 그때 당시에 교체도 한 번 받았...</td>\n",
       "      <td>[이게, 업체, 그러면]</td>\n",
       "      <td>해지</td>\n",
       "    </tr>\n",
       "    <tr>\n",
       "      <th>9062</th>\n",
       "      <td>환불/반품/교환</td>\n",
       "      <td>안녕하세요   상담사입니다. 수고하십니다 제가 받은 제품 덮개가 안 맞아요. 네 고...</td>\n",
       "      <td>[덮개, 맞아요, 제품]</td>\n",
       "      <td>해지</td>\n",
       "    </tr>\n",
       "    <tr>\n",
       "      <th>9063</th>\n",
       "      <td>환불/반품/교환</td>\n",
       "      <td>반갑습니다 무엇을 도와드릴까요. 예 제가 좀 전에 전화를 했었거든요. 혹시 저하고 ...</td>\n",
       "      <td>[아닌가, 때문에, 상담]</td>\n",
       "      <td>해지</td>\n",
       "    </tr>\n",
       "  </tbody>\n",
       "</table>\n",
       "<p>9059 rows × 4 columns</p>\n",
       "</div>"
      ]
     },
     "execution_count": 79,
     "metadata": {},
     "output_type": "execute_result"
    }
   ],
   "execution_count": 79
  },
  {
   "metadata": {
    "ExecuteTime": {
     "end_time": "2024-11-19T05:22:32.309368Z",
     "start_time": "2024-11-19T05:22:32.302450Z"
    }
   },
   "cell_type": "code",
   "source": [
    "print(df_total.isnull().sum())\n",
    "print(len(df_total))"
   ],
   "id": "ae53e7fb193beb6a",
   "outputs": [
    {
     "name": "stdout",
     "output_type": "stream",
     "text": [
      "category    0\n",
      "text        0\n",
      "keyword     0\n",
      "label       0\n",
      "dtype: int64\n",
      "9059\n"
     ]
    }
   ],
   "execution_count": 77
  },
  {
   "metadata": {
    "ExecuteTime": {
     "end_time": "2024-11-19T03:18:25.296160Z",
     "start_time": "2024-11-19T03:18:25.281241Z"
    }
   },
   "cell_type": "code",
   "source": [
    "ohe = OneHotEncoder()\n",
    "ohe.fit(df_total[['label']])\n",
    "ohe_encoded = ohe.transform(df_total[['label']])\n",
    "column_list = [name[6:] for name in ohe.get_feature_names_out()]\n",
    "ohe_df = pd.DataFrame(ohe_encoded.toarray(), columns=column_list, index=df_total.index)\n",
    "data = pd.concat([df_total, ohe_df], axis=1)\n",
    "data"
   ],
   "id": "51b065846c835cb",
   "outputs": [
    {
     "name": "stdout",
     "output_type": "stream",
     "text": [
      "['label_가입문의' 'label_고장신고' 'label_서비스문의' 'label_요금문의' 'label_해지']\n",
      "(9059, 5)\n",
      "(9059, 5)\n",
      "(9059, 5)\n"
     ]
    },
    {
     "data": {
      "text/plain": [
       "      category                                               text  \\\n",
       "0         AS문의  네 많이 걱정하셨을 텐데요. 일단 기사가 다시 가서 확인을 좀 드릴거고요. 일정 확...   \n",
       "1         AS문의  반갑습니다  상담사  입니다. 다름이 아니고요 지난번에 냉장고를 고쳤거든요. 예 제...   \n",
       "2         AS문의  안녕하세요  세탁기 전문 상담사  입니다. 수고하십니다 세탁기 급수가 안 돼서 연락...   \n",
       "3         AS문의  반갑습니다  상담사  입니다. 세탁기가요 세제하고 섬유 유연제가 세탁기 속으로 들어...   \n",
       "4         AS문의  반갑습니다 상담사 입니다. 안녕하세요 노트북 을 사용 중인데요. 네 노트북 사용하세...   \n",
       "...        ...                                                ...   \n",
       "9059  환불/반품/교환  청명한 하루입니다  고객센터  상담사 입니다. 상담사님 안녕하세요 수고하십니다. 감...   \n",
       "9060  환불/반품/교환  반갑습니다  입니다. 안녕하세요 가구 배송 희망일 선택 시 요일 선택도 가능한가요....   \n",
       "9061  환불/반품/교환  생산 업체로부터 부품 교체도 받으신 건이시구요. 예 그때 당시에 교체도 한 번 받았...   \n",
       "9062  환불/반품/교환  안녕하세요   상담사입니다. 수고하십니다 제가 받은 제품 덮개가 안 맞아요. 네 고...   \n",
       "9063  환불/반품/교환  반갑습니다 무엇을 도와드릴까요. 예 제가 좀 전에 전화를 했었거든요. 혹시 저하고 ...   \n",
       "\n",
       "               keyword label  가입문의  고장신고  서비스문의  요금문의   해지  \n",
       "0        [시간, 기사가, 연락]  고장신고   0.0   1.0    0.0   0.0  0.0  \n",
       "1      [알려주신, 휴대폰, 물이]  고장신고   0.0   1.0    0.0   0.0  0.0  \n",
       "2        [다시, 물이, 세탁기]  고장신고   0.0   1.0    0.0   0.0  0.0  \n",
       "3     [어떻게, 해주세요, 그렇게]  고장신고   0.0   1.0    0.0   0.0  0.0  \n",
       "4        [노트북, 센터, 상담]  고장신고   0.0   1.0    0.0   0.0  0.0  \n",
       "...                ...   ...   ...   ...    ...   ...  ...  \n",
       "9059    [예약, 입니다, 상담사]    해지   0.0   0.0    0.0   0.0  1.0  \n",
       "9060   [지방의, 배송, 경우에는]    해지   0.0   0.0    0.0   0.0  1.0  \n",
       "9061     [이게, 업체, 그러면]    해지   0.0   0.0    0.0   0.0  1.0  \n",
       "9062     [덮개, 맞아요, 제품]    해지   0.0   0.0    0.0   0.0  1.0  \n",
       "9063    [아닌가, 때문에, 상담]    해지   0.0   0.0    0.0   0.0  1.0  \n",
       "\n",
       "[9059 rows x 9 columns]"
      ],
      "text/html": [
       "<div>\n",
       "<style scoped>\n",
       "    .dataframe tbody tr th:only-of-type {\n",
       "        vertical-align: middle;\n",
       "    }\n",
       "\n",
       "    .dataframe tbody tr th {\n",
       "        vertical-align: top;\n",
       "    }\n",
       "\n",
       "    .dataframe thead th {\n",
       "        text-align: right;\n",
       "    }\n",
       "</style>\n",
       "<table border=\"1\" class=\"dataframe\">\n",
       "  <thead>\n",
       "    <tr style=\"text-align: right;\">\n",
       "      <th></th>\n",
       "      <th>category</th>\n",
       "      <th>text</th>\n",
       "      <th>keyword</th>\n",
       "      <th>label</th>\n",
       "      <th>가입문의</th>\n",
       "      <th>고장신고</th>\n",
       "      <th>서비스문의</th>\n",
       "      <th>요금문의</th>\n",
       "      <th>해지</th>\n",
       "    </tr>\n",
       "  </thead>\n",
       "  <tbody>\n",
       "    <tr>\n",
       "      <th>0</th>\n",
       "      <td>AS문의</td>\n",
       "      <td>네 많이 걱정하셨을 텐데요. 일단 기사가 다시 가서 확인을 좀 드릴거고요. 일정 확...</td>\n",
       "      <td>[시간, 기사가, 연락]</td>\n",
       "      <td>고장신고</td>\n",
       "      <td>0.0</td>\n",
       "      <td>1.0</td>\n",
       "      <td>0.0</td>\n",
       "      <td>0.0</td>\n",
       "      <td>0.0</td>\n",
       "    </tr>\n",
       "    <tr>\n",
       "      <th>1</th>\n",
       "      <td>AS문의</td>\n",
       "      <td>반갑습니다  상담사  입니다. 다름이 아니고요 지난번에 냉장고를 고쳤거든요. 예 제...</td>\n",
       "      <td>[알려주신, 휴대폰, 물이]</td>\n",
       "      <td>고장신고</td>\n",
       "      <td>0.0</td>\n",
       "      <td>1.0</td>\n",
       "      <td>0.0</td>\n",
       "      <td>0.0</td>\n",
       "      <td>0.0</td>\n",
       "    </tr>\n",
       "    <tr>\n",
       "      <th>2</th>\n",
       "      <td>AS문의</td>\n",
       "      <td>안녕하세요  세탁기 전문 상담사  입니다. 수고하십니다 세탁기 급수가 안 돼서 연락...</td>\n",
       "      <td>[다시, 물이, 세탁기]</td>\n",
       "      <td>고장신고</td>\n",
       "      <td>0.0</td>\n",
       "      <td>1.0</td>\n",
       "      <td>0.0</td>\n",
       "      <td>0.0</td>\n",
       "      <td>0.0</td>\n",
       "    </tr>\n",
       "    <tr>\n",
       "      <th>3</th>\n",
       "      <td>AS문의</td>\n",
       "      <td>반갑습니다  상담사  입니다. 세탁기가요 세제하고 섬유 유연제가 세탁기 속으로 들어...</td>\n",
       "      <td>[어떻게, 해주세요, 그렇게]</td>\n",
       "      <td>고장신고</td>\n",
       "      <td>0.0</td>\n",
       "      <td>1.0</td>\n",
       "      <td>0.0</td>\n",
       "      <td>0.0</td>\n",
       "      <td>0.0</td>\n",
       "    </tr>\n",
       "    <tr>\n",
       "      <th>4</th>\n",
       "      <td>AS문의</td>\n",
       "      <td>반갑습니다 상담사 입니다. 안녕하세요 노트북 을 사용 중인데요. 네 노트북 사용하세...</td>\n",
       "      <td>[노트북, 센터, 상담]</td>\n",
       "      <td>고장신고</td>\n",
       "      <td>0.0</td>\n",
       "      <td>1.0</td>\n",
       "      <td>0.0</td>\n",
       "      <td>0.0</td>\n",
       "      <td>0.0</td>\n",
       "    </tr>\n",
       "    <tr>\n",
       "      <th>...</th>\n",
       "      <td>...</td>\n",
       "      <td>...</td>\n",
       "      <td>...</td>\n",
       "      <td>...</td>\n",
       "      <td>...</td>\n",
       "      <td>...</td>\n",
       "      <td>...</td>\n",
       "      <td>...</td>\n",
       "      <td>...</td>\n",
       "    </tr>\n",
       "    <tr>\n",
       "      <th>9059</th>\n",
       "      <td>환불/반품/교환</td>\n",
       "      <td>청명한 하루입니다  고객센터  상담사 입니다. 상담사님 안녕하세요 수고하십니다. 감...</td>\n",
       "      <td>[예약, 입니다, 상담사]</td>\n",
       "      <td>해지</td>\n",
       "      <td>0.0</td>\n",
       "      <td>0.0</td>\n",
       "      <td>0.0</td>\n",
       "      <td>0.0</td>\n",
       "      <td>1.0</td>\n",
       "    </tr>\n",
       "    <tr>\n",
       "      <th>9060</th>\n",
       "      <td>환불/반품/교환</td>\n",
       "      <td>반갑습니다  입니다. 안녕하세요 가구 배송 희망일 선택 시 요일 선택도 가능한가요....</td>\n",
       "      <td>[지방의, 배송, 경우에는]</td>\n",
       "      <td>해지</td>\n",
       "      <td>0.0</td>\n",
       "      <td>0.0</td>\n",
       "      <td>0.0</td>\n",
       "      <td>0.0</td>\n",
       "      <td>1.0</td>\n",
       "    </tr>\n",
       "    <tr>\n",
       "      <th>9061</th>\n",
       "      <td>환불/반품/교환</td>\n",
       "      <td>생산 업체로부터 부품 교체도 받으신 건이시구요. 예 그때 당시에 교체도 한 번 받았...</td>\n",
       "      <td>[이게, 업체, 그러면]</td>\n",
       "      <td>해지</td>\n",
       "      <td>0.0</td>\n",
       "      <td>0.0</td>\n",
       "      <td>0.0</td>\n",
       "      <td>0.0</td>\n",
       "      <td>1.0</td>\n",
       "    </tr>\n",
       "    <tr>\n",
       "      <th>9062</th>\n",
       "      <td>환불/반품/교환</td>\n",
       "      <td>안녕하세요   상담사입니다. 수고하십니다 제가 받은 제품 덮개가 안 맞아요. 네 고...</td>\n",
       "      <td>[덮개, 맞아요, 제품]</td>\n",
       "      <td>해지</td>\n",
       "      <td>0.0</td>\n",
       "      <td>0.0</td>\n",
       "      <td>0.0</td>\n",
       "      <td>0.0</td>\n",
       "      <td>1.0</td>\n",
       "    </tr>\n",
       "    <tr>\n",
       "      <th>9063</th>\n",
       "      <td>환불/반품/교환</td>\n",
       "      <td>반갑습니다 무엇을 도와드릴까요. 예 제가 좀 전에 전화를 했었거든요. 혹시 저하고 ...</td>\n",
       "      <td>[아닌가, 때문에, 상담]</td>\n",
       "      <td>해지</td>\n",
       "      <td>0.0</td>\n",
       "      <td>0.0</td>\n",
       "      <td>0.0</td>\n",
       "      <td>0.0</td>\n",
       "      <td>1.0</td>\n",
       "    </tr>\n",
       "  </tbody>\n",
       "</table>\n",
       "<p>9059 rows × 9 columns</p>\n",
       "</div>"
      ]
     },
     "execution_count": 57,
     "metadata": {},
     "output_type": "execute_result"
    }
   ],
   "execution_count": 57
  },
  {
   "metadata": {},
   "cell_type": "code",
   "outputs": [],
   "execution_count": null,
   "source": "",
   "id": "f739088d610ec382"
  },
  {
   "metadata": {
    "ExecuteTime": {
     "end_time": "2024-11-19T06:25:46.579732Z",
     "start_time": "2024-11-19T06:25:44.793134Z"
    }
   },
   "cell_type": "code",
   "source": [
    "import matplotlib.pyplot as plt\n",
    "train_length = data['text'].apply(len)\n",
    "\n",
    "plt.figure(figsize=(12, 5))\n",
    "plt.hist(train_length, bins=200, alpha=0.5, color= 'r', label='word')\n",
    "# plt.yscale('log')\n",
    "plt.yscale('log', nonposy='clip')\n",
    "plt.title('Log-Histogram of length of text')\n",
    "plt.xlabel('Length of text')\n",
    "plt.ylabel('Number of text')"
   ],
   "id": "dd1725a380f77fcf",
   "outputs": [
    {
     "ename": "TypeError",
     "evalue": "LogScale.__init__() got an unexpected keyword argument 'nonposy'",
     "output_type": "error",
     "traceback": [
      "\u001B[1;31m---------------------------------------------------------------------------\u001B[0m",
      "\u001B[1;31mTypeError\u001B[0m                                 Traceback (most recent call last)",
      "Cell \u001B[1;32mIn[106], line 7\u001B[0m\n\u001B[0;32m      5\u001B[0m plt\u001B[38;5;241m.\u001B[39mhist(train_length, bins\u001B[38;5;241m=\u001B[39m\u001B[38;5;241m200\u001B[39m, alpha\u001B[38;5;241m=\u001B[39m\u001B[38;5;241m0.5\u001B[39m, color\u001B[38;5;241m=\u001B[39m \u001B[38;5;124m'\u001B[39m\u001B[38;5;124mr\u001B[39m\u001B[38;5;124m'\u001B[39m, label\u001B[38;5;241m=\u001B[39m\u001B[38;5;124m'\u001B[39m\u001B[38;5;124mword\u001B[39m\u001B[38;5;124m'\u001B[39m)\n\u001B[0;32m      6\u001B[0m \u001B[38;5;66;03m# plt.yscale('log')\u001B[39;00m\n\u001B[1;32m----> 7\u001B[0m \u001B[43mplt\u001B[49m\u001B[38;5;241;43m.\u001B[39;49m\u001B[43myscale\u001B[49m\u001B[43m(\u001B[49m\u001B[38;5;124;43m'\u001B[39;49m\u001B[38;5;124;43mlog\u001B[39;49m\u001B[38;5;124;43m'\u001B[39;49m\u001B[43m,\u001B[49m\u001B[43m \u001B[49m\u001B[43mnonposy\u001B[49m\u001B[38;5;241;43m=\u001B[39;49m\u001B[38;5;124;43m'\u001B[39;49m\u001B[38;5;124;43mclip\u001B[39;49m\u001B[38;5;124;43m'\u001B[39;49m\u001B[43m)\u001B[49m\n\u001B[0;32m      8\u001B[0m plt\u001B[38;5;241m.\u001B[39mtitle(\u001B[38;5;124m'\u001B[39m\u001B[38;5;124mLog-Histogram of length of text\u001B[39m\u001B[38;5;124m'\u001B[39m)\n\u001B[0;32m      9\u001B[0m plt\u001B[38;5;241m.\u001B[39mxlabel(\u001B[38;5;124m'\u001B[39m\u001B[38;5;124mLength of text\u001B[39m\u001B[38;5;124m'\u001B[39m)\n",
      "File \u001B[1;32m~\\PycharmProjects\\aicc_keyword\\.venv\\Lib\\site-packages\\matplotlib\\pyplot.py:4388\u001B[0m, in \u001B[0;36myscale\u001B[1;34m(value, **kwargs)\u001B[0m\n\u001B[0;32m   4386\u001B[0m \u001B[38;5;129m@_copy_docstring_and_deprecators\u001B[39m(Axes\u001B[38;5;241m.\u001B[39mset_yscale)\n\u001B[0;32m   4387\u001B[0m \u001B[38;5;28;01mdef\u001B[39;00m \u001B[38;5;21myscale\u001B[39m(value: \u001B[38;5;28mstr\u001B[39m \u001B[38;5;241m|\u001B[39m ScaleBase, \u001B[38;5;241m*\u001B[39m\u001B[38;5;241m*\u001B[39mkwargs) \u001B[38;5;241m-\u001B[39m\u001B[38;5;241m>\u001B[39m \u001B[38;5;28;01mNone\u001B[39;00m:\n\u001B[1;32m-> 4388\u001B[0m     \u001B[43mgca\u001B[49m\u001B[43m(\u001B[49m\u001B[43m)\u001B[49m\u001B[38;5;241;43m.\u001B[39;49m\u001B[43mset_yscale\u001B[49m\u001B[43m(\u001B[49m\u001B[43mvalue\u001B[49m\u001B[43m,\u001B[49m\u001B[43m \u001B[49m\u001B[38;5;241;43m*\u001B[39;49m\u001B[38;5;241;43m*\u001B[39;49m\u001B[43mkwargs\u001B[49m\u001B[43m)\u001B[49m\n",
      "File \u001B[1;32m~\\PycharmProjects\\aicc_keyword\\.venv\\Lib\\site-packages\\matplotlib\\axes\\_base.py:74\u001B[0m, in \u001B[0;36m_axis_method_wrapper.__set_name__.<locals>.wrapper\u001B[1;34m(self, *args, **kwargs)\u001B[0m\n\u001B[0;32m     73\u001B[0m \u001B[38;5;28;01mdef\u001B[39;00m \u001B[38;5;21mwrapper\u001B[39m(\u001B[38;5;28mself\u001B[39m, \u001B[38;5;241m*\u001B[39margs, \u001B[38;5;241m*\u001B[39m\u001B[38;5;241m*\u001B[39mkwargs):\n\u001B[1;32m---> 74\u001B[0m     \u001B[38;5;28;01mreturn\u001B[39;00m \u001B[43mget_method\u001B[49m\u001B[43m(\u001B[49m\u001B[38;5;28;43mself\u001B[39;49m\u001B[43m)\u001B[49m\u001B[43m(\u001B[49m\u001B[38;5;241;43m*\u001B[39;49m\u001B[43margs\u001B[49m\u001B[43m,\u001B[49m\u001B[43m \u001B[49m\u001B[38;5;241;43m*\u001B[39;49m\u001B[38;5;241;43m*\u001B[39;49m\u001B[43mkwargs\u001B[49m\u001B[43m)\u001B[49m\n",
      "File \u001B[1;32m~\\PycharmProjects\\aicc_keyword\\.venv\\Lib\\site-packages\\matplotlib\\axis.py:824\u001B[0m, in \u001B[0;36mAxis._set_axes_scale\u001B[1;34m(self, value, **kwargs)\u001B[0m\n\u001B[0;32m    821\u001B[0m old_default_lims \u001B[38;5;241m=\u001B[39m (\u001B[38;5;28mself\u001B[39m\u001B[38;5;241m.\u001B[39mget_major_locator()\n\u001B[0;32m    822\u001B[0m                     \u001B[38;5;241m.\u001B[39mnonsingular(\u001B[38;5;241m-\u001B[39mnp\u001B[38;5;241m.\u001B[39minf, np\u001B[38;5;241m.\u001B[39minf))\n\u001B[0;32m    823\u001B[0m \u001B[38;5;28;01mfor\u001B[39;00m ax \u001B[38;5;129;01min\u001B[39;00m \u001B[38;5;28mself\u001B[39m\u001B[38;5;241m.\u001B[39m_get_shared_axes():\n\u001B[1;32m--> 824\u001B[0m     \u001B[43max\u001B[49m\u001B[38;5;241;43m.\u001B[39;49m\u001B[43m_axis_map\u001B[49m\u001B[43m[\u001B[49m\u001B[43mname\u001B[49m\u001B[43m]\u001B[49m\u001B[38;5;241;43m.\u001B[39;49m\u001B[43m_set_scale\u001B[49m\u001B[43m(\u001B[49m\u001B[43mvalue\u001B[49m\u001B[43m,\u001B[49m\u001B[43m \u001B[49m\u001B[38;5;241;43m*\u001B[39;49m\u001B[38;5;241;43m*\u001B[39;49m\u001B[43mkwargs\u001B[49m\u001B[43m)\u001B[49m\n\u001B[0;32m    825\u001B[0m     ax\u001B[38;5;241m.\u001B[39m_update_transScale()\n\u001B[0;32m    826\u001B[0m     ax\u001B[38;5;241m.\u001B[39mstale \u001B[38;5;241m=\u001B[39m \u001B[38;5;28;01mTrue\u001B[39;00m\n",
      "File \u001B[1;32m~\\PycharmProjects\\aicc_keyword\\.venv\\Lib\\site-packages\\matplotlib\\axis.py:782\u001B[0m, in \u001B[0;36mAxis._set_scale\u001B[1;34m(self, value, **kwargs)\u001B[0m\n\u001B[0;32m    780\u001B[0m \u001B[38;5;28;01mdef\u001B[39;00m \u001B[38;5;21m_set_scale\u001B[39m(\u001B[38;5;28mself\u001B[39m, value, \u001B[38;5;241m*\u001B[39m\u001B[38;5;241m*\u001B[39mkwargs):\n\u001B[0;32m    781\u001B[0m     \u001B[38;5;28;01mif\u001B[39;00m \u001B[38;5;129;01mnot\u001B[39;00m \u001B[38;5;28misinstance\u001B[39m(value, mscale\u001B[38;5;241m.\u001B[39mScaleBase):\n\u001B[1;32m--> 782\u001B[0m         \u001B[38;5;28mself\u001B[39m\u001B[38;5;241m.\u001B[39m_scale \u001B[38;5;241m=\u001B[39m \u001B[43mmscale\u001B[49m\u001B[38;5;241;43m.\u001B[39;49m\u001B[43mscale_factory\u001B[49m\u001B[43m(\u001B[49m\u001B[43mvalue\u001B[49m\u001B[43m,\u001B[49m\u001B[43m \u001B[49m\u001B[38;5;28;43mself\u001B[39;49m\u001B[43m,\u001B[49m\u001B[43m \u001B[49m\u001B[38;5;241;43m*\u001B[39;49m\u001B[38;5;241;43m*\u001B[39;49m\u001B[43mkwargs\u001B[49m\u001B[43m)\u001B[49m\n\u001B[0;32m    783\u001B[0m     \u001B[38;5;28;01melse\u001B[39;00m:\n\u001B[0;32m    784\u001B[0m         \u001B[38;5;28mself\u001B[39m\u001B[38;5;241m.\u001B[39m_scale \u001B[38;5;241m=\u001B[39m value\n",
      "File \u001B[1;32m~\\PycharmProjects\\aicc_keyword\\.venv\\Lib\\site-packages\\matplotlib\\scale.py:717\u001B[0m, in \u001B[0;36mscale_factory\u001B[1;34m(scale, axis, **kwargs)\u001B[0m\n\u001B[0;32m    708\u001B[0m \u001B[38;5;250m\u001B[39m\u001B[38;5;124;03m\"\"\"\u001B[39;00m\n\u001B[0;32m    709\u001B[0m \u001B[38;5;124;03mReturn a scale class by name.\u001B[39;00m\n\u001B[0;32m    710\u001B[0m \n\u001B[1;32m   (...)\u001B[0m\n\u001B[0;32m    714\u001B[0m \u001B[38;5;124;03maxis : `~matplotlib.axis.Axis`\u001B[39;00m\n\u001B[0;32m    715\u001B[0m \u001B[38;5;124;03m\"\"\"\u001B[39;00m\n\u001B[0;32m    716\u001B[0m scale_cls \u001B[38;5;241m=\u001B[39m _api\u001B[38;5;241m.\u001B[39mcheck_getitem(_scale_mapping, scale\u001B[38;5;241m=\u001B[39mscale)\n\u001B[1;32m--> 717\u001B[0m \u001B[38;5;28;01mreturn\u001B[39;00m \u001B[43mscale_cls\u001B[49m\u001B[43m(\u001B[49m\u001B[43maxis\u001B[49m\u001B[43m,\u001B[49m\u001B[43m \u001B[49m\u001B[38;5;241;43m*\u001B[39;49m\u001B[38;5;241;43m*\u001B[39;49m\u001B[43mkwargs\u001B[49m\u001B[43m)\u001B[49m\n",
      "\u001B[1;31mTypeError\u001B[0m: LogScale.__init__() got an unexpected keyword argument 'nonposy'"
     ]
    },
    {
     "data": {
      "text/plain": [
       "<Figure size 1200x500 with 1 Axes>"
      ],
      "image/png": "[encoded data removed]"
     },
     "metadata": {},
     "output_type": "display_data"
    }
   ],
   "execution_count": 106
  },
  {
   "metadata": {
    "ExecuteTime": {
     "end_time": "2024-11-19T06:25:43.259075Z",
     "start_time": "2024-11-19T06:25:43.251448Z"
    }
   },
   "cell_type": "code",
   "source": [
    "from sklearn.model_selection import train_test_split\n",
    "from sklearn.feature_extraction.text import TfidfVectorizer\n",
    "from sklearn.linear_model import LogisticRegression\n",
    "from sklearn.preprocessing import LabelEncoder\n",
    "from keras import utils\n",
    " \n",
    "Y_obj = data['label']\n",
    "e = LabelEncoder()\n",
    "e.fit(Y_obj)\n",
    "Y = e.transform(Y_obj)"
   ],
   "id": "e8985d2c21eb671",
   "outputs": [],
   "execution_count": 105
  },
  {
   "metadata": {
    "ExecuteTime": {
     "end_time": "2024-11-19T05:25:58.472073Z",
     "start_time": "2024-11-19T05:25:57.972763Z"
    }
   },
   "cell_type": "code",
   "source": [
    "vectorizer = TfidfVectorizer()\n",
    "X = vectorizer.fit_transform(data.text)\n",
    "Y_encoded = utils.to_categorical(Y)"
   ],
   "id": "c9730637203e2054",
   "outputs": [],
   "execution_count": 83
  },
  {
   "metadata": {},
   "cell_type": "code",
   "outputs": [],
   "execution_count": null,
   "source": [
    "x_train, x_test, y_train, y_test = train_test_split(X, Y, test_size=0.2, random_state=0)\n",
    "print(x_train.shape, x_test.shape, y_train.shape, y_test.shape)"
   ],
   "id": "93692744b0e9d9e8"
  },
  {
   "metadata": {
    "ExecuteTime": {
     "end_time": "2024-11-19T05:27:49.967023Z",
     "start_time": "2024-11-19T05:27:49.957866Z"
    }
   },
   "cell_type": "code",
   "source": "np.shape(X)",
   "id": "54638166b6bde462",
   "outputs": [
    {
     "data": {
      "text/plain": [
       "(9059, 59897)"
      ]
     },
     "execution_count": 86,
     "metadata": {},
     "output_type": "execute_result"
    }
   ],
   "execution_count": 86
  },
  {
   "metadata": {
    "ExecuteTime": {
     "end_time": "2024-11-19T05:27:30.947370Z",
     "start_time": "2024-11-19T05:27:30.922380Z"
    }
   },
   "cell_type": "code",
   "source": "",
   "id": "d663bab1b48f9592",
   "outputs": [
    {
     "ename": "TypeError",
     "evalue": "'tuple' object is not callable",
     "output_type": "error",
     "traceback": [
      "\u001B[1;31m---------------------------------------------------------------------------\u001B[0m",
      "\u001B[1;31mTypeError\u001B[0m                                 Traceback (most recent call last)",
      "Cell \u001B[1;32mIn[85], line 1\u001B[0m\n\u001B[1;32m----> 1\u001B[0m \u001B[43mX\u001B[49m\u001B[38;5;241;43m.\u001B[39;49m\u001B[43mshape\u001B[49m\u001B[43m(\u001B[49m\u001B[43m)\u001B[49m\n",
      "\u001B[1;31mTypeError\u001B[0m: 'tuple' object is not callable"
     ]
    }
   ],
   "execution_count": 85
  },
  {
   "metadata": {
    "ExecuteTime": {
     "end_time": "2024-11-19T05:32:25.534657Z",
     "start_time": "2024-11-19T05:32:25.367673Z"
    }
   },
   "cell_type": "code",
   "source": [
    "from keras import models, layers\n",
    "\n",
    "# 모델의 설정\n",
    "model = models.Sequential()\n",
    "model.add(layers.Input(shape=(100,)))\n",
    "model.add(layers.Dense(30, activation = 'relu'))\n",
    "model.add(layers.Dense(5, activation = 'softmax'))\n",
    " \n",
    "# 모델 컴파일\n",
    "model.compile(loss = 'categorical_crossentropy', optimizer = 'adam', metrics = ['accuracy'])\n",
    "\n",
    " # 모델 실행\n",
    "model.fit(X, Y_encoded, epochs = 50, batch_size = 1)\n",
    " \n",
    "# 결과 출력\n",
    "print(\"\\n Accuracy: %.4f\" %(model.evaluate(X, Y_encoded)[1]))"
   ],
   "id": "b1d34d4c2ed3dee5",
   "outputs": [
    {
     "name": "stdout",
     "output_type": "stream",
     "text": [
      "Epoch 1/50\n"
     ]
    },
    {
     "ename": "ValueError",
     "evalue": "Exception encountered when calling Sequential.call().\n\n\u001B[1mInput 0 of layer \"dense_6\" is incompatible with the layer: expected axis -1 of input shape to have value 100, but received input with shape (1, 59897)\u001B[0m\n\nArguments received by Sequential.call():\n  • inputs=tf.Tensor(shape=(1, 59897), dtype=float32)\n  • training=True\n  • mask=None",
     "output_type": "error",
     "traceback": [
      "\u001B[1;31m---------------------------------------------------------------------------\u001B[0m",
      "\u001B[1;31mValueError\u001B[0m                                Traceback (most recent call last)",
      "Cell \u001B[1;32mIn[89], line 13\u001B[0m\n\u001B[0;32m     10\u001B[0m model\u001B[38;5;241m.\u001B[39mcompile(loss \u001B[38;5;241m=\u001B[39m \u001B[38;5;124m'\u001B[39m\u001B[38;5;124mcategorical_crossentropy\u001B[39m\u001B[38;5;124m'\u001B[39m, optimizer \u001B[38;5;241m=\u001B[39m \u001B[38;5;124m'\u001B[39m\u001B[38;5;124madam\u001B[39m\u001B[38;5;124m'\u001B[39m, metrics \u001B[38;5;241m=\u001B[39m [\u001B[38;5;124m'\u001B[39m\u001B[38;5;124maccuracy\u001B[39m\u001B[38;5;124m'\u001B[39m])\n\u001B[0;32m     12\u001B[0m  \u001B[38;5;66;03m# 모델 실행\u001B[39;00m\n\u001B[1;32m---> 13\u001B[0m \u001B[43mmodel\u001B[49m\u001B[38;5;241;43m.\u001B[39;49m\u001B[43mfit\u001B[49m\u001B[43m(\u001B[49m\u001B[43mX\u001B[49m\u001B[43m,\u001B[49m\u001B[43m \u001B[49m\u001B[43mY_encoded\u001B[49m\u001B[43m,\u001B[49m\u001B[43m \u001B[49m\u001B[43mepochs\u001B[49m\u001B[43m \u001B[49m\u001B[38;5;241;43m=\u001B[39;49m\u001B[43m \u001B[49m\u001B[38;5;241;43m50\u001B[39;49m\u001B[43m,\u001B[49m\u001B[43m \u001B[49m\u001B[43mbatch_size\u001B[49m\u001B[43m \u001B[49m\u001B[38;5;241;43m=\u001B[39;49m\u001B[43m \u001B[49m\u001B[38;5;241;43m1\u001B[39;49m\u001B[43m)\u001B[49m\n\u001B[0;32m     15\u001B[0m \u001B[38;5;66;03m# 결과 출력\u001B[39;00m\n\u001B[0;32m     16\u001B[0m \u001B[38;5;28mprint\u001B[39m(\u001B[38;5;124m\"\u001B[39m\u001B[38;5;130;01m\\n\u001B[39;00m\u001B[38;5;124m Accuracy: \u001B[39m\u001B[38;5;132;01m%.4f\u001B[39;00m\u001B[38;5;124m\"\u001B[39m \u001B[38;5;241m%\u001B[39m(model\u001B[38;5;241m.\u001B[39mevaluate(X, Y_encoded)[\u001B[38;5;241m1\u001B[39m]))\n",
      "File \u001B[1;32m~\\PycharmProjects\\aicc_keyword\\.venv\\Lib\\site-packages\\keras\\src\\utils\\traceback_utils.py:122\u001B[0m, in \u001B[0;36mfilter_traceback.<locals>.error_handler\u001B[1;34m(*args, **kwargs)\u001B[0m\n\u001B[0;32m    119\u001B[0m     filtered_tb \u001B[38;5;241m=\u001B[39m _process_traceback_frames(e\u001B[38;5;241m.\u001B[39m__traceback__)\n\u001B[0;32m    120\u001B[0m     \u001B[38;5;66;03m# To get the full stack trace, call:\u001B[39;00m\n\u001B[0;32m    121\u001B[0m     \u001B[38;5;66;03m# `keras.config.disable_traceback_filtering()`\u001B[39;00m\n\u001B[1;32m--> 122\u001B[0m     \u001B[38;5;28;01mraise\u001B[39;00m e\u001B[38;5;241m.\u001B[39mwith_traceback(filtered_tb) \u001B[38;5;28;01mfrom\u001B[39;00m \u001B[38;5;28;01mNone\u001B[39;00m\n\u001B[0;32m    123\u001B[0m \u001B[38;5;28;01mfinally\u001B[39;00m:\n\u001B[0;32m    124\u001B[0m     \u001B[38;5;28;01mdel\u001B[39;00m filtered_tb\n",
      "File \u001B[1;32m~\\PycharmProjects\\aicc_keyword\\.venv\\Lib\\site-packages\\keras\\src\\layers\\input_spec.py:227\u001B[0m, in \u001B[0;36massert_input_compatibility\u001B[1;34m(input_spec, inputs, layer_name)\u001B[0m\n\u001B[0;32m    222\u001B[0m     \u001B[38;5;28;01mfor\u001B[39;00m axis, value \u001B[38;5;129;01min\u001B[39;00m spec\u001B[38;5;241m.\u001B[39maxes\u001B[38;5;241m.\u001B[39mitems():\n\u001B[0;32m    223\u001B[0m         \u001B[38;5;28;01mif\u001B[39;00m value \u001B[38;5;129;01mis\u001B[39;00m \u001B[38;5;129;01mnot\u001B[39;00m \u001B[38;5;28;01mNone\u001B[39;00m \u001B[38;5;129;01mand\u001B[39;00m shape[axis] \u001B[38;5;129;01mnot\u001B[39;00m \u001B[38;5;129;01min\u001B[39;00m {\n\u001B[0;32m    224\u001B[0m             value,\n\u001B[0;32m    225\u001B[0m             \u001B[38;5;28;01mNone\u001B[39;00m,\n\u001B[0;32m    226\u001B[0m         }:\n\u001B[1;32m--> 227\u001B[0m             \u001B[38;5;28;01mraise\u001B[39;00m \u001B[38;5;167;01mValueError\u001B[39;00m(\n\u001B[0;32m    228\u001B[0m                 \u001B[38;5;124mf\u001B[39m\u001B[38;5;124m'\u001B[39m\u001B[38;5;124mInput \u001B[39m\u001B[38;5;132;01m{\u001B[39;00minput_index\u001B[38;5;132;01m}\u001B[39;00m\u001B[38;5;124m of layer \u001B[39m\u001B[38;5;124m\"\u001B[39m\u001B[38;5;132;01m{\u001B[39;00mlayer_name\u001B[38;5;132;01m}\u001B[39;00m\u001B[38;5;124m\"\u001B[39m\u001B[38;5;124m is \u001B[39m\u001B[38;5;124m'\u001B[39m\n\u001B[0;32m    229\u001B[0m                 \u001B[38;5;124mf\u001B[39m\u001B[38;5;124m\"\u001B[39m\u001B[38;5;124mincompatible with the layer: expected axis \u001B[39m\u001B[38;5;132;01m{\u001B[39;00maxis\u001B[38;5;132;01m}\u001B[39;00m\u001B[38;5;124m \u001B[39m\u001B[38;5;124m\"\u001B[39m\n\u001B[0;32m    230\u001B[0m                 \u001B[38;5;124mf\u001B[39m\u001B[38;5;124m\"\u001B[39m\u001B[38;5;124mof input shape to have value \u001B[39m\u001B[38;5;132;01m{\u001B[39;00mvalue\u001B[38;5;132;01m}\u001B[39;00m\u001B[38;5;124m, \u001B[39m\u001B[38;5;124m\"\u001B[39m\n\u001B[0;32m    231\u001B[0m                 \u001B[38;5;124m\"\u001B[39m\u001B[38;5;124mbut received input with \u001B[39m\u001B[38;5;124m\"\u001B[39m\n\u001B[0;32m    232\u001B[0m                 \u001B[38;5;124mf\u001B[39m\u001B[38;5;124m\"\u001B[39m\u001B[38;5;124mshape \u001B[39m\u001B[38;5;132;01m{\u001B[39;00mshape\u001B[38;5;132;01m}\u001B[39;00m\u001B[38;5;124m\"\u001B[39m\n\u001B[0;32m    233\u001B[0m             )\n\u001B[0;32m    234\u001B[0m \u001B[38;5;66;03m# Check shape.\u001B[39;00m\n\u001B[0;32m    235\u001B[0m \u001B[38;5;28;01mif\u001B[39;00m spec\u001B[38;5;241m.\u001B[39mshape \u001B[38;5;129;01mis\u001B[39;00m \u001B[38;5;129;01mnot\u001B[39;00m \u001B[38;5;28;01mNone\u001B[39;00m:\n",
      "\u001B[1;31mValueError\u001B[0m: Exception encountered when calling Sequential.call().\n\n\u001B[1mInput 0 of layer \"dense_6\" is incompatible with the layer: expected axis -1 of input shape to have value 100, but received input with shape (1, 59897)\u001B[0m\n\nArguments received by Sequential.call():\n  • inputs=tf.Tensor(shape=(1, 59897), dtype=float32)\n  • training=True\n  • mask=None"
     ]
    }
   ],
   "execution_count": 89
  },
  {
   "metadata": {},
   "cell_type": "code",
   "outputs": [],
   "execution_count": null,
   "source": "y_train = np.reshape(y_train, (y_train.shape[0], 1))",
   "id": "d39ba881d6722617"
  },
  {
   "metadata": {
    "ExecuteTime": {
     "end_time": "2024-11-19T05:35:45.218049Z",
     "start_time": "2024-11-19T05:35:45.207373Z"
    }
   },
   "cell_type": "code",
   "source": [
    "from sklearn.preprocessing import LabelEncoder\n",
    "\n",
    "Y_obj = data['label']\n",
    "e = LabelEncoder()\n",
    "e.fit(Y_obj)\n",
    "Y = e.transform(Y_obj)\n",
    "Y"
   ],
   "id": "47badaaef60b43f8",
   "outputs": [
    {
     "data": {
      "text/plain": [
       "array([1, 1, 1, ..., 4, 4, 4])"
      ]
     },
     "execution_count": 93,
     "metadata": {},
     "output_type": "execute_result"
    }
   ],
   "execution_count": 93
  },
  {
   "metadata": {
    "ExecuteTime": {
     "end_time": "2024-11-19T05:35:52.922554Z",
     "start_time": "2024-11-19T05:35:52.386902Z"
    }
   },
   "cell_type": "code",
   "source": [
    "vectorizer = TfidfVectorizer()\n",
    "X = vectorizer.fit_transform(data.text)"
   ],
   "id": "76a96081016ffab6",
   "outputs": [],
   "execution_count": 94
  },
  {
   "metadata": {
    "ExecuteTime": {
     "end_time": "2024-11-19T05:35:54.684250Z",
     "start_time": "2024-11-19T05:35:54.668910Z"
    }
   },
   "cell_type": "code",
   "source": [
    "x_train, x_test, y_train, y_test = train_test_split(X, Y, test_size=0.2, random_state=0)\n",
    "print(x_train.shape, x_test.shape, y_train.shape, y_test.shape)"
   ],
   "id": "d1047da6e5d98176",
   "outputs": [
    {
     "name": "stdout",
     "output_type": "stream",
     "text": [
      "(7247, 59897) (1812, 59897) (7247,) (1812,)\n"
     ]
    }
   ],
   "execution_count": 95
  },
  {
   "metadata": {
    "ExecuteTime": {
     "end_time": "2024-11-19T05:38:29.551926Z",
     "start_time": "2024-11-19T05:38:27.244084Z"
    }
   },
   "cell_type": "code",
   "source": [
    "LR = LogisticRegression(max_iter=10000, multi_class='ovr')\n",
    "LR.fit(x_train, y_train)\n",
    "y_pred = LR.predict(x_test)\n",
    "\n",
    "from sklearn import metrics\n",
    "\n",
    "print(f'Accuracy of Logistic Regression: {metrics.accuracy_score(y_test, y_pred)}')\n",
    "print(f'ROC-AUC score of Logistic Regression: {metrics.roc_auc_score(y_test, LR.predict_proba(x_test), multi_class=\"ovr\", average=\"macro\")}')"
   ],
   "id": "5f3058d2efb486cc",
   "outputs": [
    {
     "name": "stderr",
     "output_type": "stream",
     "text": [
      "C:\\Users\\Admin\\PycharmProjects\\aicc_keyword\\.venv\\Lib\\site-packages\\sklearn\\linear_model\\_logistic.py:1256: FutureWarning: 'multi_class' was deprecated in version 1.5 and will be removed in 1.7. Use OneVsRestClassifier(LogisticRegression(..)) instead. Leave it to its default value to avoid this warning.\n",
      "  warnings.warn(\n"
     ]
    },
    {
     "name": "stdout",
     "output_type": "stream",
     "text": [
      "Accuracy of Logistic Regression: 0.8570640176600441\n",
      "ROC-AUC score of Logistic Regression: 0.9696030871858822\n"
     ]
    }
   ],
   "execution_count": 98
  },
  {
   "metadata": {
    "ExecuteTime": {
     "end_time": "2024-11-19T06:24:14.387967Z",
     "start_time": "2024-11-19T06:23:56.234599Z"
    }
   },
   "cell_type": "code",
   "source": [
    "from xgboost import XGBClassifier, plot_importance\n",
    "\n",
    "model = XGBClassifier(objective='multi:softprob', max_depth=7, alpha=0.6)\n",
    "xgb_model = model.fit(x_train, y_train)\n",
    "xgb_y_pred = xgb_model.predict(x_test)\n",
    "xgb_y_pred_proba = xgb_model.predict_proba(x_test)\n",
    "print(f'Accuracy of XGBoost Classifier : {metrics.accuracy_score(y_test, xgb_y_pred)}')\n",
    "print(f'ROC-AUC score of XGBoost Classifier : {metrics.roc_auc_score(y_test, xgb_y_pred_proba, multi_class=\"ovr\", average=\"macro\")}')"
   ],
   "id": "b00a8db74b875b18",
   "outputs": [
    {
     "name": "stdout",
     "output_type": "stream",
     "text": [
      "Accuracy of XGBoost Classifier : 0.8730684326710817\n",
      "ROC-AUC score of XGBoost Classifier : 0.9625675844087078\n"
     ]
    }
   ],
   "execution_count": 104
  }
 ],
 "metadata": {
  "kernelspec": {
   "display_name": "Python 3",
   "language": "python",
   "name": "python3"
  },
  "language_info": {
   "codemirror_mode": {
    "name": "ipython",
    "version": 2
   },
   "file_extension": ".py",
   "mimetype": "text/x-python",
   "name": "python",
   "nbconvert_exporter": "python",
   "pygments_lexer": "ipython2",
   "version": "2.7.6"
  }
 },
 "nbformat": 4,
 "nbformat_minor": 5
}
